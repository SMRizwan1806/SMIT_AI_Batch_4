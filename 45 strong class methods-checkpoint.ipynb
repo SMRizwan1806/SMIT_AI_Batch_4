{
 "cells": [
  {
   "cell_type": "markdown",
   "id": "5fb7b948",
   "metadata": {},
   "source": [
    "# Concatination with \"+\"\n"
   ]
  },
  {
   "cell_type": "code",
   "execution_count": 2,
   "id": "b6561dcd",
   "metadata": {},
   "outputs": [
    {
     "name": "stdout",
     "output_type": "stream",
     "text": [
      "Institute Name: Saylani Mass IT Training Program \n",
      "Student Full Name: Rizwan Ul Hassan \n",
      "Course Name: A.I Batch-4 \n",
      "Roll number: 117929\n"
     ]
    }
   ],
   "source": [
    "first_name = \"Rizwan Ul\"\n",
    "last_name = \"Hassan\"\n",
    "inst_name = \"Saylani Mass IT Training Program\"\n",
    "course_name = \"A.I Batch-4\"\n",
    "roll_num = 117929\n",
    "print(\"Institute Name: \"+inst_name,  \"\\nStudent Full Name: \"+first_name +' '+ last_name, \"\\nCourse Name: \"+course_name, \"\\nRoll number: \"+str(roll_num))"
   ]
  },
  {
   "cell_type": "markdown",
   "id": "ebd5bd55",
   "metadata": {},
   "source": [
    "# Concatination with \".format\""
   ]
  },
  {
   "cell_type": "code",
   "execution_count": 3,
   "id": "146f2736",
   "metadata": {},
   "outputs": [
    {
     "name": "stdout",
     "output_type": "stream",
     "text": [
      "Institude Name: Saylani Mass IT Training Program\n",
      "Student Full Name: Rizwan Ul Hassan\n",
      "course Name: A.I Batch-4\n",
      "Roll Number: 117929\n"
     ]
    }
   ],
   "source": [
    "first_name = \"Rizwan Ul\"\n",
    "last_name = \"Hassan\"\n",
    "inst_name = \"Saylani Mass IT Training Program\"\n",
    "course_name = \"A.I Batch-4\"\n",
    "roll_num = 117929\n",
    "card = '''Institude Name: {}\n",
    "Student Full Name: {} {}\n",
    "course Name: {}\n",
    "Roll Number: {}'''.format(inst_name,first_name,last_name,course_name,roll_num)\n",
    "\n",
    "print(card)"
   ]
  },
  {
   "cell_type": "markdown",
   "id": "2dcce258",
   "metadata": {},
   "source": [
    "# Capitalize method\n",
    "### This method takes a string & capitalize its first word"
   ]
  },
  {
   "cell_type": "code",
   "execution_count": 4,
   "id": "0b1609fd",
   "metadata": {},
   "outputs": [
    {
     "name": "stdout",
     "output_type": "stream",
     "text": [
      "Saylani mass i.t training program\n"
     ]
    }
   ],
   "source": [
    "name = \"saylani mass I.T training program\"\n",
    "print(name.capitalize())"
   ]
  },
  {
   "cell_type": "markdown",
   "id": "907f993f",
   "metadata": {},
   "source": [
    "# Case fold method\n",
    "### This method takes a string & converts all letters to small case"
   ]
  },
  {
   "cell_type": "code",
   "execution_count": 5,
   "id": "19d4e771",
   "metadata": {},
   "outputs": [
    {
     "name": "stdout",
     "output_type": "stream",
     "text": [
      "saylani mass i.t training program\n"
     ]
    }
   ],
   "source": [
    "name = \"SAYLANI MASS I.T TRAINING PROGRAM\"\n",
    "print(name.casefold())"
   ]
  },
  {
   "cell_type": "markdown",
   "id": "6e0aafc3",
   "metadata": {},
   "source": [
    "# Center method\n",
    "### This method centers a string according to given width"
   ]
  },
  {
   "cell_type": "code",
   "execution_count": 6,
   "id": "5c417450",
   "metadata": {},
   "outputs": [
    {
     "name": "stdout",
     "output_type": "stream",
     "text": [
      "                                 Saylani mass I.T training program                                  \n"
     ]
    }
   ],
   "source": [
    "name = \"Saylani mass I.T training program\"\n",
    "print(name.center(100))"
   ]
  },
  {
   "cell_type": "markdown",
   "id": "4d7ef19b",
   "metadata": {},
   "source": [
    "# Count method\n",
    "### This method counts a specific character instances inside a string"
   ]
  },
  {
   "cell_type": "code",
   "execution_count": 8,
   "id": "9ec9b112",
   "metadata": {},
   "outputs": [
    {
     "name": "stdout",
     "output_type": "stream",
     "text": [
      "5\n"
     ]
    }
   ],
   "source": [
    "name = \"Saylani mass I.T training program\"\n",
    "print(name.count('a'))"
   ]
  },
  {
   "cell_type": "markdown",
   "id": "ec3b542f",
   "metadata": {},
   "source": [
    "# Encode method\n",
    "### This method converts into encoded text (UTF-8 by default)"
   ]
  },
  {
   "cell_type": "code",
   "execution_count": 10,
   "id": "9c83b47b",
   "metadata": {},
   "outputs": [
    {
     "name": "stdout",
     "output_type": "stream",
     "text": [
      "b'Saylani mass I.T training program'\n"
     ]
    }
   ],
   "source": [
    "name = \"Saylani mass I.T training program\"\n",
    "print(name.encode())"
   ]
  },
  {
   "cell_type": "markdown",
   "id": "b6bcb594",
   "metadata": {},
   "source": [
    "# Endswith method\n",
    "### This method confirms whether a string ends with a specific character or not"
   ]
  },
  {
   "cell_type": "code",
   "execution_count": 12,
   "id": "bdc92699",
   "metadata": {},
   "outputs": [
    {
     "name": "stdout",
     "output_type": "stream",
     "text": [
      "False\n",
      "True\n"
     ]
    }
   ],
   "source": [
    "name = \"Saylani mass I.T training program\"\n",
    "print(name.endswith('a'))\n",
    "print(name.endswith('m'))"
   ]
  },
  {
   "cell_type": "markdown",
   "id": "a6dc4765",
   "metadata": {},
   "source": [
    "# Expandtabs method\n",
    "### This method replace space with tabs"
   ]
  },
  {
   "cell_type": "code",
   "execution_count": 15,
   "id": "ec1aa3ce",
   "metadata": {},
   "outputs": [
    {
     "name": "stdout",
     "output_type": "stream",
     "text": [
      "Saylani       mass   I.T    training      program\n"
     ]
    }
   ],
   "source": [
    "name = \"Saylani\\tmass\\tI.T\\ttraining\\tprogram\"\n",
    "print(name.expandtabs(7))"
   ]
  },
  {
   "cell_type": "markdown",
   "id": "cc671e59",
   "metadata": {},
   "source": [
    "# Find method\n",
    "### This method finds characters in string & shoe their index"
   ]
  },
  {
   "cell_type": "code",
   "execution_count": 17,
   "id": "a8865047",
   "metadata": {},
   "outputs": [
    {
     "name": "stdout",
     "output_type": "stream",
     "text": [
      "1\n",
      "8\n"
     ]
    }
   ],
   "source": [
    "name = \"Saylani mass I.T training program\"\n",
    "print(name.find('a'))\n",
    "print(name.find('m'))"
   ]
  },
  {
   "cell_type": "markdown",
   "id": "c7acd32f",
   "metadata": {},
   "source": [
    "# Index method\n",
    "### This method shows the first instance of a chracter in a string"
   ]
  },
  {
   "cell_type": "code",
   "execution_count": 18,
   "id": "9becfc8a",
   "metadata": {},
   "outputs": [
    {
     "name": "stdout",
     "output_type": "stream",
     "text": [
      "1\n",
      "8\n"
     ]
    }
   ],
   "source": [
    "name = \"Saylani mass I.T training program\"\n",
    "print(name.index('a'))\n",
    "print(name.index('m'))"
   ]
  },
  {
   "cell_type": "markdown",
   "id": "994eece9",
   "metadata": {},
   "source": [
    "# isalnum method\n",
    "### This method find whether a string is alphanumeric or not"
   ]
  },
  {
   "cell_type": "code",
   "execution_count": 22,
   "id": "f4ab9a84",
   "metadata": {},
   "outputs": [
    {
     "name": "stdout",
     "output_type": "stream",
     "text": [
      "True\n",
      "False\n"
     ]
    }
   ],
   "source": [
    "name_a = \"SaylaniAIBatch4\"\n",
    "name_b = \"Saylani A.I Batch#4\"\n",
    "print(name_a.isalnum())\n",
    "print(name_b.isalnum())"
   ]
  },
  {
   "cell_type": "markdown",
   "id": "5f3d2923",
   "metadata": {},
   "source": [
    "# isaplha method\n",
    "### This method find whether a string contains only alphabets or not"
   ]
  },
  {
   "cell_type": "code",
   "execution_count": 23,
   "id": "d1cc6b65",
   "metadata": {},
   "outputs": [
    {
     "name": "stdout",
     "output_type": "stream",
     "text": [
      "True\n",
      "False\n"
     ]
    }
   ],
   "source": [
    "name_a = \"SaylaniAIBatchIV\"\n",
    "name_b = \"Saylani A.I Batch#4\"\n",
    "print(name_a.isalpha())\n",
    "print(name_b.isalpha())"
   ]
  },
  {
   "cell_type": "markdown",
   "id": "94c5bf53",
   "metadata": {},
   "source": [
    "# isascii method\n",
    "### This method find whether a string contains ascii characters or not"
   ]
  },
  {
   "cell_type": "code",
   "execution_count": 24,
   "id": "b8fa2110",
   "metadata": {},
   "outputs": [
    {
     "name": "stdout",
     "output_type": "stream",
     "text": [
      "True\n",
      "True\n"
     ]
    }
   ],
   "source": [
    "name_a = \"SaylaniAIBatchIV\"\n",
    "name_b = \"Saylani A.I Batch#4\"\n",
    "print(name_a.isascii())\n",
    "print(name_b.isascii())"
   ]
  },
  {
   "cell_type": "markdown",
   "id": "619bfa34",
   "metadata": {},
   "source": [
    "# isdecimal method\n",
    "### This method checks whether a string contains only decimal characters or not"
   ]
  },
  {
   "cell_type": "code",
   "execution_count": 25,
   "id": "e174a5af",
   "metadata": {},
   "outputs": [
    {
     "name": "stdout",
     "output_type": "stream",
     "text": [
      "False\n",
      "False\n"
     ]
    }
   ],
   "source": [
    "num_a = \"7965858.8776\"\n",
    "num_b = \"453564755875\"\n",
    "print(name_a.isdecimal())\n",
    "print(name_b.isdecimal())"
   ]
  },
  {
   "cell_type": "markdown",
   "id": "92631ee8",
   "metadata": {},
   "source": [
    "# isdigit method \n",
    "### This method checks whether a string contains only digits or not"
   ]
  },
  {
   "cell_type": "code",
   "execution_count": 27,
   "id": "437b9e93",
   "metadata": {},
   "outputs": [
    {
     "name": "stdout",
     "output_type": "stream",
     "text": [
      "False\n",
      "False\n"
     ]
    }
   ],
   "source": [
    "num_a = \"7965858.8776\"\n",
    "num_b = \"453564755875\"\n",
    "print(name_a.isdigit())\n",
    "print(name_b.isdigit())"
   ]
  },
  {
   "cell_type": "markdown",
   "id": "df970ac9",
   "metadata": {},
   "source": [
    "# isidentifier method\n",
    "### This method checks whether name of a string known as \"identifier\" is valid"
   ]
  },
  {
   "cell_type": "code",
   "execution_count": 28,
   "id": "742156a7",
   "metadata": {},
   "outputs": [
    {
     "name": "stdout",
     "output_type": "stream",
     "text": [
      "True\n",
      "False\n"
     ]
    }
   ],
   "source": [
    "name_a = \"SaylaniAIBatchIV\"\n",
    "name_b = \"2Saylani A.I Batch#4\"\n",
    "print(name_a.isidentifier())\n",
    "print(name_b.isidentifier())"
   ]
  },
  {
   "cell_type": "markdown",
   "id": "8994a8f9",
   "metadata": {},
   "source": [
    "# islower method\n",
    "### This method checks whether all characters of a string is small case or not"
   ]
  },
  {
   "cell_type": "code",
   "execution_count": 29,
   "id": "5a2b1d55",
   "metadata": {},
   "outputs": [
    {
     "name": "stdout",
     "output_type": "stream",
     "text": [
      "False\n",
      "True\n"
     ]
    }
   ],
   "source": [
    "name_a = \"SaylaniAIBatchIV\"\n",
    "name_b = \"saylani a.i batch#4\"\n",
    "print(name_a.islower())\n",
    "print(name_b.islower())"
   ]
  },
  {
   "cell_type": "markdown",
   "id": "9e4a1247",
   "metadata": {},
   "source": [
    "# isnumeric method\n",
    "\n",
    "### This method checks whether all characters of a string are numbers or not"
   ]
  },
  {
   "cell_type": "code",
   "execution_count": 31,
   "id": "fac65fa8",
   "metadata": {},
   "outputs": [
    {
     "name": "stdout",
     "output_type": "stream",
     "text": [
      "False\n",
      "False\n"
     ]
    }
   ],
   "source": [
    "num_a = \"7965858.8776\"\n",
    "num_b = \"4535\"\n",
    "print(name_a.isnumeric())\n",
    "print(name_b.isnumeric())"
   ]
  },
  {
   "cell_type": "markdown",
   "id": "df7e7955",
   "metadata": {},
   "source": [
    "# isprintable\n",
    "### This method checks whether a string is printable or not"
   ]
  },
  {
   "cell_type": "code",
   "execution_count": 32,
   "id": "0407fac4",
   "metadata": {},
   "outputs": [
    {
     "name": "stdout",
     "output_type": "stream",
     "text": [
      "True\n",
      "False\n"
     ]
    }
   ],
   "source": [
    "b = \"Hellow World\"\n",
    "c = \"Hellow \\n World\"\n",
    "print(b.isprintable())\n",
    "print(c.isprintable())"
   ]
  },
  {
   "cell_type": "markdown",
   "id": "23e4b0e9",
   "metadata": {},
   "source": [
    "# isspace method\n",
    "### used to check whether all the characters in a string are whitespace"
   ]
  },
  {
   "cell_type": "code",
   "execution_count": 35,
   "id": "aede7381",
   "metadata": {},
   "outputs": [
    {
     "name": "stdout",
     "output_type": "stream",
     "text": [
      "False\n",
      "True\n",
      "False\n"
     ]
    }
   ],
   "source": [
    "b = \"Hellow World\"\n",
    "c = \"\\t\\n\"\n",
    "d = \"\"\n",
    "\n",
    "print(b.isspace())\n",
    "print(c.isspace())\n",
    "print(d.isspace())"
   ]
  },
  {
   "cell_type": "markdown",
   "id": "de1c075f",
   "metadata": {},
   "source": [
    "# istitle method\n",
    "### used to check whether a string is a titlecased string or not.\n",
    "#### A titlecased string is a string where the first letter of each word is capitalized and all other letters are lowercase.\n"
   ]
  },
  {
   "cell_type": "code",
   "execution_count": 37,
   "id": "a03cbf0d",
   "metadata": {},
   "outputs": [
    {
     "name": "stdout",
     "output_type": "stream",
     "text": [
      "True\n",
      "False\n"
     ]
    }
   ],
   "source": [
    "b = \"Rizwan Ul Hassan\"\n",
    "c = \"rizwan ul hassan\"\n",
    "\n",
    "print(b.istitle())\n",
    "print(c.istitle())"
   ]
  },
  {
   "cell_type": "markdown",
   "id": "e786c421",
   "metadata": {},
   "source": [
    "# isupper method\n",
    "### used to checks whether all the alphabetic characters in a string are uppercase or not."
   ]
  },
  {
   "cell_type": "code",
   "execution_count": 38,
   "id": "7df598d8",
   "metadata": {},
   "outputs": [
    {
     "name": "stdout",
     "output_type": "stream",
     "text": [
      "True\n",
      "False\n"
     ]
    }
   ],
   "source": [
    "b = \"RIZWAN UL HASSAN\"\n",
    "c = \"Rizwan Ul Hassan\"\n",
    "print(b.isupper())\n",
    "print(c.isupper())"
   ]
  },
  {
   "cell_type": "markdown",
   "id": "cddded7c",
   "metadata": {},
   "source": [
    "# join method\n",
    "### joins a sequence of strings together into a single string, using a specified separator string.\n"
   ]
  },
  {
   "cell_type": "code",
   "execution_count": 39,
   "id": "c6638996",
   "metadata": {
    "scrolled": true
   },
   "outputs": [
    {
     "name": "stdout",
     "output_type": "stream",
     "text": [
      "P,a,k,i,s,t,a,n\n"
     ]
    }
   ],
   "source": [
    "separator = \",\"\n",
    "name = \"Pakistan\"\n",
    "\n",
    "print(separator.join(name))"
   ]
  },
  {
   "cell_type": "markdown",
   "id": "1d573451",
   "metadata": {},
   "source": [
    "# ljust method\n",
    "### justifies a string to left within a specified width by padding it with a specified character on the right.\n"
   ]
  },
  {
   "cell_type": "code",
   "execution_count": 40,
   "id": "60d54c0b",
   "metadata": {},
   "outputs": [
    {
     "name": "stdout",
     "output_type": "stream",
     "text": [
      "Hello!!!!!\n"
     ]
    }
   ],
   "source": [
    "name = \"Hello\"\n",
    "print(name.ljust(10,'!'))"
   ]
  },
  {
   "cell_type": "markdown",
   "id": "3fc2516f",
   "metadata": {},
   "source": [
    "# lower method\n",
    "### converts all the alphabetic characters in a string to lowercase.\n"
   ]
  },
  {
   "cell_type": "code",
   "execution_count": 41,
   "id": "97a184d9",
   "metadata": {},
   "outputs": [
    {
     "name": "stdout",
     "output_type": "stream",
     "text": [
      "rizwan ul hassan\n"
     ]
    }
   ],
   "source": [
    "name = \"RIZWAN UL HASSAN\"\n",
    "print(name.lower())"
   ]
  },
  {
   "cell_type": "markdown",
   "id": "3a27f1ac",
   "metadata": {},
   "source": [
    "# maketrans method\n",
    "### creates a translation table that can be used by the translator"
   ]
  },
  {
   "cell_type": "code",
   "execution_count": 42,
   "id": "80df5055",
   "metadata": {},
   "outputs": [
    {
     "name": "stdout",
     "output_type": "stream",
     "text": [
      "Hipp Wrpd\n"
     ]
    }
   ],
   "source": [
    "name = \"Hello World\"\n",
    "b = name.maketrans('el','ip','o')\n",
    "c = name.translate(b)\n",
    "print(c)"
   ]
  },
  {
   "cell_type": "markdown",
   "id": "0609f6e9",
   "metadata": {},
   "source": [
    "# partition method\n",
    "### splits a string into three parts based on a specified separator.\n"
   ]
  },
  {
   "cell_type": "code",
   "execution_count": 43,
   "id": "5d317e6e",
   "metadata": {},
   "outputs": [
    {
     "name": "stdout",
     "output_type": "stream",
     "text": [
      "('Welcome', ',', ' Mr. Rizwan ul Hassan')\n"
     ]
    }
   ],
   "source": [
    "name = \"Welcome, Mr. Rizwan ul Hassan\"\n",
    "print(name.partition(','))"
   ]
  },
  {
   "cell_type": "markdown",
   "id": "9402eb0f",
   "metadata": {},
   "source": [
    "# removeprefix method\n",
    "### removes a specified prefix from a string\n",
    "#### If start with specified string.\n"
   ]
  },
  {
   "cell_type": "code",
   "execution_count": 44,
   "id": "0f6a30aa",
   "metadata": {},
   "outputs": [
    {
     "name": "stdout",
     "output_type": "stream",
     "text": [
      " World\n"
     ]
    }
   ],
   "source": [
    "name = \"Hello World\"\n",
    "print(name.removeprefix('Hello'))"
   ]
  },
  {
   "cell_type": "markdown",
   "id": "d8665132",
   "metadata": {},
   "source": [
    "# removesuffix method\n",
    "### removes a specified suffix from a string. \n",
    "#### If the string ends with the specified suffix, the suffix is removed"
   ]
  },
  {
   "cell_type": "code",
   "execution_count": 45,
   "id": "8667373f",
   "metadata": {},
   "outputs": [
    {
     "name": "stdout",
     "output_type": "stream",
     "text": [
      "Hello \n"
     ]
    }
   ],
   "source": [
    "name = \"Hello World\"\n",
    "print(name.removesuffix(\"World\"))"
   ]
  },
  {
   "cell_type": "markdown",
   "id": "868e0064",
   "metadata": {},
   "source": [
    "# replace method\n",
    "### replaces all occurrences of a specified substring in a string with another string"
   ]
  },
  {
   "cell_type": "code",
   "execution_count": 46,
   "id": "456c46f5",
   "metadata": {},
   "outputs": [
    {
     "name": "stdout",
     "output_type": "stream",
     "text": [
      "Hello Universe\n"
     ]
    }
   ],
   "source": [
    "name = \"Hello World\"\n",
    "print(name.replace(\"World\",\"Universe\"))"
   ]
  },
  {
   "cell_type": "markdown",
   "id": "def3c8bb",
   "metadata": {},
   "source": [
    "# rfind method\n",
    "### returns the highest index in the string where a specified substring is found. \n",
    "#### The method searches the string from right to left, starting from the specified position, and returns -1 if the substring is not found.\n"
   ]
  },
  {
   "cell_type": "code",
   "execution_count": 48,
   "id": "1d0eec76",
   "metadata": {},
   "outputs": [
    {
     "name": "stdout",
     "output_type": "stream",
     "text": [
      "9\n",
      "8\n",
      "-1\n"
     ]
    }
   ],
   "source": [
    "name = \"Hello World\"\n",
    "print(name.rfind(\"l\"))\n",
    "print(name.rfind(\"r\"))\n",
    "print(name.rfind(\"y\"))"
   ]
  },
  {
   "cell_type": "markdown",
   "id": "841addf6",
   "metadata": {},
   "source": [
    "# rindex method\n",
    "### similar to the rfind() method, but instead of returning -1 when the substring is not found, it raises a ValueError exception.\n"
   ]
  },
  {
   "cell_type": "code",
   "execution_count": 49,
   "id": "8b4f7049",
   "metadata": {},
   "outputs": [
    {
     "name": "stdout",
     "output_type": "stream",
     "text": [
      "9\n",
      "8\n"
     ]
    },
    {
     "ename": "ValueError",
     "evalue": "substring not found",
     "output_type": "error",
     "traceback": [
      "\u001b[1;31m---------------------------------------------------------------------------\u001b[0m",
      "\u001b[1;31mValueError\u001b[0m                                Traceback (most recent call last)",
      "\u001b[1;32m~\\AppData\\Local\\Temp\\ipykernel_16832\\700926204.py\u001b[0m in \u001b[0;36m<module>\u001b[1;34m\u001b[0m\n\u001b[0;32m      2\u001b[0m \u001b[0mprint\u001b[0m\u001b[1;33m(\u001b[0m\u001b[0mname\u001b[0m\u001b[1;33m.\u001b[0m\u001b[0mrindex\u001b[0m\u001b[1;33m(\u001b[0m\u001b[1;34m\"l\"\u001b[0m\u001b[1;33m)\u001b[0m\u001b[1;33m)\u001b[0m\u001b[1;33m\u001b[0m\u001b[1;33m\u001b[0m\u001b[0m\n\u001b[0;32m      3\u001b[0m \u001b[0mprint\u001b[0m\u001b[1;33m(\u001b[0m\u001b[0mname\u001b[0m\u001b[1;33m.\u001b[0m\u001b[0mrindex\u001b[0m\u001b[1;33m(\u001b[0m\u001b[1;34m\"r\"\u001b[0m\u001b[1;33m)\u001b[0m\u001b[1;33m)\u001b[0m\u001b[1;33m\u001b[0m\u001b[1;33m\u001b[0m\u001b[0m\n\u001b[1;32m----> 4\u001b[1;33m \u001b[0mprint\u001b[0m\u001b[1;33m(\u001b[0m\u001b[0mname\u001b[0m\u001b[1;33m.\u001b[0m\u001b[0mrindex\u001b[0m\u001b[1;33m(\u001b[0m\u001b[1;34m\"y\"\u001b[0m\u001b[1;33m)\u001b[0m\u001b[1;33m)\u001b[0m\u001b[1;33m\u001b[0m\u001b[1;33m\u001b[0m\u001b[0m\n\u001b[0m",
      "\u001b[1;31mValueError\u001b[0m: substring not found"
     ]
    }
   ],
   "source": [
    "name = \"Hello World\"\n",
    "print(name.rindex(\"l\"))\n",
    "print(name.rindex(\"r\"))\n",
    "print(name.rindex(\"y\"))"
   ]
  },
  {
   "cell_type": "markdown",
   "id": "c263e7e3",
   "metadata": {},
   "source": [
    "# rjust method\n",
    "### returns a right-justified version of a given string by padding it with a specified character (or space) on the left side. \n",
    "#### This method returns a new string and does not modify the original string.\n",
    "\n",
    " "
   ]
  },
  {
   "cell_type": "code",
   "execution_count": 51,
   "id": "1d9f26f1",
   "metadata": {},
   "outputs": [
    {
     "name": "stdout",
     "output_type": "stream",
     "text": [
      "     Hello\n",
      "#####Hello\n"
     ]
    }
   ],
   "source": [
    "name = \"Hello\"\n",
    "print(name.rjust(10))\n",
    "print(name.rjust(10,'#'))"
   ]
  },
  {
   "cell_type": "markdown",
   "id": "525e3627",
   "metadata": {},
   "source": [
    "# rpartition method\n",
    "### separates the given string into three parts using a separator (also called a delimiter) specified as an argument. \n",
    "#### The separation occurs from the right side of the string.\n"
   ]
  },
  {
   "cell_type": "code",
   "execution_count": 52,
   "id": "e9e2280d",
   "metadata": {},
   "outputs": [
    {
     "name": "stdout",
     "output_type": "stream",
     "text": [
      "('apple,banana', ',', 'mango')\n"
     ]
    }
   ],
   "source": [
    "n = \"apple,banana,mango\"\n",
    "print(n.rpartition(\",\"))"
   ]
  },
  {
   "cell_type": "markdown",
   "id": "1340c7ee",
   "metadata": {},
   "source": [
    "# rsplit method\n",
    "### splits a given string into a list of substrings, starting from the right side of the string, using a specified separator (also called a delimiter). \n",
    "#### If no separator is specified, the method splits the string at whitesp"
   ]
  },
  {
   "cell_type": "code",
   "execution_count": 54,
   "id": "616b7b22",
   "metadata": {},
   "outputs": [
    {
     "name": "stdout",
     "output_type": "stream",
     "text": [
      "['Hello', 'World']\n"
     ]
    }
   ],
   "source": [
    " name = \"Hello World\"\n",
    "print(name.rsplit())"
   ]
  },
  {
   "cell_type": "markdown",
   "id": "3ed61d1f",
   "metadata": {},
   "source": [
    "# rstrip method\n",
    "### returns a new string with trailing whitespace characters (spaces, tabs etc)"
   ]
  },
  {
   "cell_type": "code",
   "execution_count": 55,
   "id": "8eeebe92",
   "metadata": {},
   "outputs": [
    {
     "name": "stdout",
     "output_type": "stream",
     "text": [
      "Hello World\n"
     ]
    }
   ],
   "source": [
    "name = \"Hello World!!\"\n",
    "print(name.rstrip('!'))"
   ]
  },
  {
   "cell_type": "markdown",
   "id": "6e3372e8",
   "metadata": {},
   "source": [
    "# split method\n",
    "### splits a given string into a list of substrings, using a specified "
   ]
  },
  {
   "cell_type": "code",
   "execution_count": 56,
   "id": "1b711e50",
   "metadata": {},
   "outputs": [
    {
     "name": "stdout",
     "output_type": "stream",
     "text": [
      "['Hello', 'World']\n"
     ]
    }
   ],
   "source": [
    "name = \"   Hello World  \"\n",
    "print(name.split())"
   ]
  },
  {
   "cell_type": "markdown",
   "id": "c814927f",
   "metadata": {},
   "source": [
    "# splitlines method\n",
    "### splits a given string into a list of substrings, using the newline character(s) (\\n, \\r, and \\r\\n) as the delimiter.\n"
   ]
  },
  {
   "cell_type": "code",
   "execution_count": 57,
   "id": "fdc2a3ad",
   "metadata": {},
   "outputs": [
    {
     "name": "stdout",
     "output_type": "stream",
     "text": [
      "['Hello', 'World', 'Goodnight']\n"
     ]
    }
   ],
   "source": [
    "name = \"Hello\\nWorld\\nGoodnight\"\n",
    "print(name.splitlines())"
   ]
  },
  {
   "cell_type": "markdown",
   "id": "d1c1ee88",
   "metadata": {},
   "source": [
    "# startswith method\n",
    "### returns a boolean value indicating whether a given string starts with"
   ]
  },
  {
   "cell_type": "code",
   "execution_count": 58,
   "id": "77cdffb7",
   "metadata": {},
   "outputs": [
    {
     "name": "stdout",
     "output_type": "stream",
     "text": [
      "True\n",
      "False\n"
     ]
    }
   ],
   "source": [
    "name = \"Rizwan Ul Hassan\"\n",
    "print(name.startswith('Rizwan Ul'))\n",
    "print(name.startswith('Hassan'))b"
   ]
  },
  {
   "cell_type": "markdown",
   "id": "757fbeae",
   "metadata": {},
   "source": [
    "# strip method\n",
    "### returns a new string with any leading or trailing whitespace removed.\n"
   ]
  },
  {
   "cell_type": "code",
   "execution_count": 59,
   "id": "82180bdc",
   "metadata": {},
   "outputs": [
    {
     "name": "stdout",
     "output_type": "stream",
     "text": [
      "Rizwan Ul Hassan!\n"
     ]
    }
   ],
   "source": [
    "name = \"   \\t\\nRizwan Ul Hassan!  \"\n",
    "print(name.strip())"
   ]
  },
  {
   "cell_type": "markdown",
   "id": "e9d72f06",
   "metadata": {},
   "source": [
    "# swapcase method\n",
    "### returns a new string where all the uppercase characters are converted to lowercase and vice versa\n"
   ]
  },
  {
   "cell_type": "code",
   "execution_count": 60,
   "id": "68bcacb1",
   "metadata": {},
   "outputs": [
    {
     "name": "stdout",
     "output_type": "stream",
     "text": [
      "RiZwAn ul HAssAN\n",
      "hello world\n"
     ]
    }
   ],
   "source": [
    "name = \"rIzWaN UL haSSan\"\n",
    "print(name.swapcase())\n",
    "\n",
    "b = \"HELLO WORLD\"\n",
    "print(b.swapcase())"
   ]
  },
  {
   "cell_type": "markdown",
   "id": "f4ba3a1b",
   "metadata": {},
   "source": [
    "# title method\n",
    "### returns a new string with the first character of each word in uppercase and the rest of the characters in lowercase.\n"
   ]
  },
  {
   "cell_type": "code",
   "execution_count": 61,
   "id": "07496341",
   "metadata": {},
   "outputs": [
    {
     "name": "stdout",
     "output_type": "stream",
     "text": [
      "Rizwan Ul Hassan\n"
     ]
    }
   ],
   "source": [
    "name = \"rizwan ul hassan\"\n",
    "print(name.title())"
   ]
  },
  {
   "cell_type": "markdown",
   "id": "84eccadb",
   "metadata": {},
   "source": [
    "# zfill method\n",
    "### returns a new string with zeros (0) added to the left side of a string "
   ]
  },
  {
   "cell_type": "code",
   "execution_count": 62,
   "id": "f653a108",
   "metadata": {},
   "outputs": [
    {
     "name": "stdout",
     "output_type": "stream",
     "text": [
      "0000Rizwan\n"
     ]
    }
   ],
   "source": [
    "name = \"Rizwan\"\n",
    "print(name.zfill(10)) "
   ]
  }
 ],
 "metadata": {
  "kernelspec": {
   "display_name": "Python 3",
   "language": "python",
   "name": "python3"
  },
  "language_info": {
   "codemirror_mode": {
    "name": "ipython",
    "version": 3
   },
   "file_extension": ".py",
   "mimetype": "text/x-python",
   "name": "python",
   "nbconvert_exporter": "python",
   "pygments_lexer": "ipython3",
   "version": "3.11.1 (tags/v3.11.1:a7a450f, Dec  6 2022, 19:58:39) [MSC v.1934 64 bit (AMD64)]"
  },
  "vscode": {
   "interpreter": {
    "hash": "ee857fbb6da27b78b682c034b19e4d668fc581df03e13480bd17845b410f6813"
   }
  }
 },
 "nbformat": 4,
 "nbformat_minor": 5
}
